{
 "cells": [
  {
   "cell_type": "code",
   "execution_count": null,
   "metadata": {},
   "outputs": [],
   "source": [
    "from mpl_toolkits import mplot3d\n",
    "%matplotlib inline\n",
    "import numpy as np\n",
    "import matplotlib.pyplot as plt\n",
    "import json"
   ]
  },
  {
   "cell_type": "code",
   "execution_count": null,
   "metadata": {},
   "outputs": [],
   "source": [
    "example = json.load(open('19_example.json'))\n",
    "ax = plt.axes(projection='3d')\n",
    "xdata = [s[0] for s in example]\n",
    "ydata = [s[1] for s in example]\n",
    "zdata = [s[2] for s in example]\n",
    "ax.scatter3D(xdata, ydata, zdata, c=zdata);\n"
   ]
  },
  {
   "cell_type": "code",
   "execution_count": null,
   "metadata": {},
   "outputs": [],
   "source": [
    "mine = json.load(open('19_data.json'))\n",
    "\n",
    "fig=plt.figure(figsize=(20,20))\n",
    "ax = fig.add_subplot(211, projection='3d')\n",
    "xdata = [s[0] for s in mine]\n",
    "ydata = [s[1] for s in mine]\n",
    "zdata = [s[2] for s in mine]\n",
    "ax.scatter3D(xdata, ydata, zdata, c=zdata);\n"
   ]
  }
 ],
 "metadata": {
  "interpreter": {
   "hash": "b53c2ececae169025d819821347888eb0def3b80bb255431f37e2e1915d10d42"
  },
  "kernelspec": {
   "display_name": "Python 3.9.9 64-bit (windows store)",
   "language": "python",
   "name": "python3"
  },
  "language_info": {
   "codemirror_mode": {
    "name": "ipython",
    "version": 3
   },
   "file_extension": ".py",
   "mimetype": "text/x-python",
   "name": "python",
   "nbconvert_exporter": "python",
   "pygments_lexer": "ipython3",
   "version": "3.9.9"
  },
  "orig_nbformat": 4
 },
 "nbformat": 4,
 "nbformat_minor": 2
}
